{
 "cells": [
  {
   "cell_type": "markdown",
   "source": [
    "# 处理szj.txt中文字，使其可以在$\\LaTeX$中排版"
   ],
   "metadata": {}
  },
  {
   "cell_type": "code",
   "execution_count": 2,
   "source": [
    "allx = []\r\n",
    "with open(\"../data/szj.txt\", encoding=\"utf-8\") as fp:\r\n",
    "    allx = fp.read().splitlines()"
   ],
   "outputs": [],
   "metadata": {}
  },
  {
   "cell_type": "code",
   "execution_count": 3,
   "source": [
    "py = allx[0::2]\r\n",
    "wenzi = allx[1::2]"
   ],
   "outputs": [],
   "metadata": {}
  },
  {
   "cell_type": "code",
   "execution_count": 4,
   "source": [
    "def output_all():\r\n",
    "    with open(\"../data/szj_wz.tex\", mode=\"w\", encoding=\"utf-8\") as fp:\r\n",
    "        for i, j in zip(py, wenzi):\r\n",
    "            ipy = [\"{{\\\\pinyinzh \\\\bfseries {}}}\".format(x) for x in i.split()]\r\n",
    "            iwz = [\"{{\\\\wenzizh \\\\bfseries {}}}\".format(x) for x in j.split()]\r\n",
    "\r\n",
    "            pyout = \"{} & & {} \\\\\\\\\".format(\r\n",
    "                \" & \".join(ipy[0:3]), \" & \".join(ipy[3:6]))\r\n",
    "            fp.write(pyout + \"\\n\")\r\n",
    "\r\n",
    "            wzout = \"{} & & {} \\\\\\\\\".format(\r\n",
    "                \" & \".join(iwz[0:3]), \" & \".join(iwz[3:6]))\r\n",
    "            fp.write(wzout + \"\\n\")\r\n",
    "\r\n",
    "            pyout = \"{} & & {} \\\\\\\\\".format(\r\n",
    "                \" & \".join(ipy[6:9]), \" & \".join(ipy[9:12]))\r\n",
    "            fp.write(pyout + \"\\n\")\r\n",
    "\r\n",
    "            wzout = \"{} & & {} \\\\\\\\\".format(\r\n",
    "                \" & \".join(iwz[6:9]), \" & \".join(iwz[9:12]))\r\n",
    "            fp.write(wzout + \"\\n\")"
   ],
   "outputs": [],
   "metadata": {}
  },
  {
   "cell_type": "code",
   "execution_count": 5,
   "source": [
    "def output_wz():\r\n",
    "    with open(\"../data/szj_wz_only.tex\", mode=\"w\", encoding=\"utf-8\") as fp:\r\n",
    "        for j in wenzi:\r\n",
    "            iwz = \"~\".join(j.split())\r\n",
    "            fp.write(iwz + \"\\n\")"
   ],
   "outputs": [],
   "metadata": {}
  },
  {
   "cell_type": "code",
   "execution_count": 6,
   "source": [
    "output_all()\r\n",
    "output_wz()"
   ],
   "outputs": [],
   "metadata": {}
  }
 ],
 "metadata": {
  "orig_nbformat": 4,
  "language_info": {
   "name": "python",
   "version": "3.8.11",
   "mimetype": "text/x-python",
   "codemirror_mode": {
    "name": "ipython",
    "version": 3
   },
   "pygments_lexer": "ipython3",
   "nbconvert_exporter": "python",
   "file_extension": ".py"
  },
  "kernelspec": {
   "name": "python3",
   "display_name": "Python 3.8.11 64-bit ('ToolS': virtualenv)"
  },
  "interpreter": {
   "hash": "77a7d2fff856187dff684a0bc90c836a5844da492a93119cdb9ad5729861e422"
  }
 },
 "nbformat": 4,
 "nbformat_minor": 2
}