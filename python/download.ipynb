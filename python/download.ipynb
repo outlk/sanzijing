{
 "metadata": {
  "language_info": {
   "codemirror_mode": {
    "name": "ipython",
    "version": 3
   },
   "file_extension": ".py",
   "mimetype": "text/x-python",
   "name": "python",
   "nbconvert_exporter": "python",
   "pygments_lexer": "ipython3",
   "version": "3.8.11"
  },
  "orig_nbformat": 2,
  "kernelspec": {
   "name": "python3",
   "display_name": "Python 3.8.11 64-bit ('ToolS': virtualenv)"
  },
  "interpreter": {
   "hash": "77a7d2fff856187dff684a0bc90c836a5844da492a93119cdb9ad5729861e422"
  }
 },
 "nbformat": 4,
 "nbformat_minor": 2,
 "cells": [
  {
   "cell_type": "markdown",
   "source": [
    "# 下载三字经全文"
   ],
   "metadata": {}
  },
  {
   "cell_type": "code",
   "execution_count": 1,
   "source": [
    "import pandas as pd\r\n",
    "from tqdm import trange\r\n",
    "import numpy as np\r\n",
    "import re"
   ],
   "outputs": [],
   "metadata": {}
  },
  {
   "cell_type": "code",
   "execution_count": 2,
   "source": [
    "pages = 123"
   ],
   "outputs": [],
   "metadata": {}
  },
  {
   "cell_type": "code",
   "execution_count": 3,
   "source": [
    "all_text = []"
   ],
   "outputs": [],
   "metadata": {}
  },
  {
   "cell_type": "code",
   "execution_count": 4,
   "source": [
    "for i in trange(1, 124):\r\n",
    "    res = pd.read_html(f\"https://www.sanzijing.org/{i}.html\")\r\n",
    "    text = res[2].values\r\n",
    "    all_text.append(text)"
   ],
   "outputs": [],
   "metadata": {}
  },
  {
   "cell_type": "code",
   "execution_count": 5,
   "source": [
    "new_all_text = []\r\n",
    "for i in all_text:\r\n",
    "    new_all_text.append(\" \".join(i[0]))\r\n",
    "    j = re.sub(r\"\\d{1,3}\\.\", \"\", \" \".join(i[1]))\r\n",
    "    new_all_text.append(j)"
   ],
   "outputs": [],
   "metadata": {}
  },
  {
   "cell_type": "code",
   "execution_count": 6,
   "source": [
    "with open(\"../data/szj.txt\", mode=\"w\", encoding=\"utf-8\") as out:\r\n",
    "    for text in new_all_text:\r\n",
    "        out.write(f\"{text}\\n\")"
   ],
   "outputs": [],
   "metadata": {}
  },
  {
   "cell_type": "markdown",
   "source": [
    "**szj.txt中第68行“鼻所嗅”要处理一下，处理成“鼻 所 嗅”**"
   ],
   "metadata": {}
  },
  {
   "cell_type": "markdown",
   "source": [],
   "metadata": {}
  }
 ]
}